{
 "cells": [
  {
   "cell_type": "code",
   "execution_count": 1,
   "metadata": {},
   "outputs": [],
   "source": [
    "from bs4 import BeautifulSoup\n",
    "import requests\n",
    "\n",
    "import pandas as pd\n",
    "import json\n",
    "\n",
    "from time import sleep\n",
    "from datetime import datetime, timezone\n",
    "\n",
    "import boto3\n",
    "\n",
    "import plotly.io as pio\n",
    "pio.renderers.default = \"iframe_connected\"\n",
    "import plotly.express as px"
   ]
  },
  {
   "cell_type": "code",
   "execution_count": 2,
   "metadata": {},
   "outputs": [],
   "source": [
    "cities_list = [\"Mont Saint Michel\", \"St Malo\", \"Bayeux\", \"Le Havre\", \"Rouen\", \"Paris\", \"Amiens\", \"Lille\", \"Strasbourg\", \n",
    "               \"Chateau du Haut Koenigsbourg\", \"Colmar\", \"Eguisheim\", \"Besancon\", \"Dijon\", \"Annecy\", \"Grenoble\", \"Lyon\", \n",
    "               \"Gorges du Verdon\", \"Bormes les Mimosas\", \"Cassis\", \"Marseille\", \"Aix en Provence\", \"Avignon\", \"Uzes\", \n",
    "               \"Nimes\", \"Aigues Mortes\", \"Saintes Maries de la mer\", \"Collioure\", \"Carcassonne\", \"Ariege\", \"Toulouse\", \n",
    "               \"Montauban\", \"Biarritz\", \"Bayonne\", \"La Rochelle\"]\n",
    "\n",
    "path = './cities.csv'"
   ]
  },
  {
   "cell_type": "markdown",
   "metadata": {},
   "source": [
    "# 2) Get weather data from each destination  "
   ]
  },
  {
   "cell_type": "markdown",
   "metadata": {},
   "source": [
    "## 2.1) Get gps coordinates from nominatim API 🌍"
   ]
  },
  {
   "cell_type": "code",
   "execution_count": 3,
   "metadata": {},
   "outputs": [],
   "source": [
    "base_url_geo = \"https://nominatim.openstreetmap.org/search?\"\n",
    "\n",
    "def nominatim_geocode(address, format='json', limit=1, **kwargs):\n",
    "    '''\n",
    "    This wrapper around nominatim API\n",
    "    Documentation : https://nominatim.org/release-docs/develop/api/Search/\n",
    "    '''\n",
    "    params = {\"q\":address, \"format\": format, \"limit\": limit, **kwargs}\n",
    "    response = requests.get(base_url_geo, params=params)\n",
    "    response.raise_for_status() # try except r.raise_for_status() ==  None\n",
    "    sleep(1)\n",
    "    return response.json()"
   ]
  },
  {
   "cell_type": "markdown",
   "metadata": {},
   "source": [
    "🗒 **_raise_for_status_** is used to handle exceptions if the status code is not 200  \n",
    "🗒 **_time.sleep_** is used to delay code execution for some amount of time. Many requests, fired in rapid succession can, depending on the server in question, quickly take up all of the free connections and effectively become a **DoS Attack**. To allow for breathing space, as well as to make sure we don't negatively impact either the users of the website or the website itself, we'd limit the number of requests sent by delaying each one."
   ]
  },
  {
   "cell_type": "markdown",
   "metadata": {},
   "source": [
    "## 2.2) Save and structure retrieved data 📚"
   ]
  },
  {
   "cell_type": "code",
   "execution_count": 4,
   "metadata": {},
   "outputs": [],
   "source": [
    "columns = ['city', 'latitude', 'longitude']\n",
    "data = []\n",
    "\n",
    "for city in cities_list:\n",
    "    response = nominatim_geocode(address = city, country = 'France')\n",
    "    row =[city, response[0]['lat'], response[0]['lon']]\n",
    "    data.append(row)\n",
    "    \n",
    "geo_df = pd.DataFrame(data=data, columns=columns)"
   ]
  },
  {
   "cell_type": "code",
   "execution_count": 5,
   "metadata": {},
   "outputs": [
    {
     "data": {
      "text/html": [
       "<div>\n",
       "<style scoped>\n",
       "    .dataframe tbody tr th:only-of-type {\n",
       "        vertical-align: middle;\n",
       "    }\n",
       "\n",
       "    .dataframe tbody tr th {\n",
       "        vertical-align: top;\n",
       "    }\n",
       "\n",
       "    .dataframe thead th {\n",
       "        text-align: right;\n",
       "    }\n",
       "</style>\n",
       "<table border=\"1\" class=\"dataframe\">\n",
       "  <thead>\n",
       "    <tr style=\"text-align: right;\">\n",
       "      <th></th>\n",
       "      <th>city</th>\n",
       "      <th>latitude</th>\n",
       "      <th>longitude</th>\n",
       "    </tr>\n",
       "  </thead>\n",
       "  <tbody>\n",
       "    <tr>\n",
       "      <th>0</th>\n",
       "      <td>Mont Saint Michel</td>\n",
       "      <td>48.6359541</td>\n",
       "      <td>-1.511459954959514</td>\n",
       "    </tr>\n",
       "    <tr>\n",
       "      <th>1</th>\n",
       "      <td>St Malo</td>\n",
       "      <td>48.649518</td>\n",
       "      <td>-2.0260409</td>\n",
       "    </tr>\n",
       "    <tr>\n",
       "      <th>2</th>\n",
       "      <td>Bayeux</td>\n",
       "      <td>49.2764624</td>\n",
       "      <td>-0.7024738</td>\n",
       "    </tr>\n",
       "    <tr>\n",
       "      <th>3</th>\n",
       "      <td>Le Havre</td>\n",
       "      <td>49.4938975</td>\n",
       "      <td>0.1079732</td>\n",
       "    </tr>\n",
       "    <tr>\n",
       "      <th>4</th>\n",
       "      <td>Rouen</td>\n",
       "      <td>49.4404591</td>\n",
       "      <td>1.0939658</td>\n",
       "    </tr>\n",
       "    <tr>\n",
       "      <th>5</th>\n",
       "      <td>Paris</td>\n",
       "      <td>48.8588897</td>\n",
       "      <td>2.3200410217200766</td>\n",
       "    </tr>\n",
       "    <tr>\n",
       "      <th>6</th>\n",
       "      <td>Amiens</td>\n",
       "      <td>49.8941708</td>\n",
       "      <td>2.2956951</td>\n",
       "    </tr>\n",
       "    <tr>\n",
       "      <th>7</th>\n",
       "      <td>Lille</td>\n",
       "      <td>50.6365654</td>\n",
       "      <td>3.0635282</td>\n",
       "    </tr>\n",
       "    <tr>\n",
       "      <th>8</th>\n",
       "      <td>Strasbourg</td>\n",
       "      <td>48.584614</td>\n",
       "      <td>7.7507127</td>\n",
       "    </tr>\n",
       "    <tr>\n",
       "      <th>9</th>\n",
       "      <td>Chateau du Haut Koenigsbourg</td>\n",
       "      <td>48.249489800000006</td>\n",
       "      <td>7.34429620253195</td>\n",
       "    </tr>\n",
       "  </tbody>\n",
       "</table>\n",
       "</div>"
      ],
      "text/plain": [
       "                           city            latitude           longitude\n",
       "0             Mont Saint Michel          48.6359541  -1.511459954959514\n",
       "1                       St Malo           48.649518          -2.0260409\n",
       "2                        Bayeux          49.2764624          -0.7024738\n",
       "3                      Le Havre          49.4938975           0.1079732\n",
       "4                         Rouen          49.4404591           1.0939658\n",
       "5                         Paris          48.8588897  2.3200410217200766\n",
       "6                        Amiens          49.8941708           2.2956951\n",
       "7                         Lille          50.6365654           3.0635282\n",
       "8                    Strasbourg           48.584614           7.7507127\n",
       "9  Chateau du Haut Koenigsbourg  48.249489800000006    7.34429620253195"
      ]
     },
     "execution_count": 5,
     "metadata": {},
     "output_type": "execute_result"
    }
   ],
   "source": [
    "geo_df.head(10)"
   ]
  },
  {
   "cell_type": "code",
   "execution_count": 6,
   "metadata": {},
   "outputs": [
    {
     "data": {
      "text/plain": [
       "city         object\n",
       "latitude     object\n",
       "longitude    object\n",
       "dtype: object"
      ]
     },
     "execution_count": 6,
     "metadata": {},
     "output_type": "execute_result"
    }
   ],
   "source": [
    "geo_df.dtypes"
   ]
  },
  {
   "cell_type": "code",
   "execution_count": 7,
   "metadata": {},
   "outputs": [],
   "source": [
    "# Convert latitude and longitude dtypes for the mapbox later\n",
    "geo_df[[\"latitude\", \"longitude\"]] = geo_df[[\"latitude\", \"longitude\"]].apply(pd.to_numeric)"
   ]
  },
  {
   "cell_type": "code",
   "execution_count": 8,
   "metadata": {},
   "outputs": [
    {
     "data": {
      "text/plain": [
       "city          object\n",
       "latitude     float64\n",
       "longitude    float64\n",
       "dtype: object"
      ]
     },
     "execution_count": 8,
     "metadata": {},
     "output_type": "execute_result"
    }
   ],
   "source": [
    "geo_df.dtypes"
   ]
  },
  {
   "cell_type": "markdown",
   "metadata": {},
   "source": [
    "## 2.3) Get weather data from One Call API ⛅"
   ]
  },
  {
   "cell_type": "code",
   "execution_count": 9,
   "metadata": {},
   "outputs": [],
   "source": [
    "base_url_weather = 'https://api.openweathermap.org/data/2.5//onecall?'\n",
    "\n",
    "def OneCall_weather(lat, lon, exclude, API_key = 'api_key', units ='metric'):\n",
    "    '''\n",
    "    API: One Call\n",
    "    weather data params: (la,  lon, exclude, api key) \n",
    "    url : https://api.openweathermap.org/data/2.5/onecall?lat={lat}&lon={lon}&exclude={part}&appid={API key}&units={units}\n",
    "    format : json (default)\n",
    "    Documentation : https://openweathermap.org/api/one-call-api\n",
    "    '''\n",
    "    params= {'lat': lat, 'lon': lon, 'exclude': exclude, 'APPID':API_key, 'units': units}\n",
    "    response = requests.get(base_url_weather, params=params)\n",
    "    response.raise_for_status()\n",
    "    sleep(1)\n",
    "    return response.json()"
   ]
  },
  {
   "cell_type": "code",
   "execution_count": 10,
   "metadata": {},
   "outputs": [],
   "source": [
    "def convertDt(unixDt):\n",
    "    utc_time = datetime.fromtimestamp(unixDt, timezone.utc)\n",
    "    local_time = utc_time.astimezone()\n",
    "    \n",
    "    return (local_time.strftime(\"%Y-%m-%d %H:%M:%S (%Z)\"))"
   ]
  },
  {
   "cell_type": "code",
   "execution_count": 11,
   "metadata": {},
   "outputs": [],
   "source": [
    "columns = ['city', 'latitude', 'longitude', 'day_time', 'temperature', 'precipitation_p', 'humidity', 'weather']\n",
    "weather_desc =[]\n",
    "for i in range(len(geo_df)):\n",
    "    \n",
    "    city = geo_df.loc[i, 'city']\n",
    "    latitude = geo_df.loc[i, 'latitude']\n",
    "    longitude = geo_df.loc[i, 'longitude']\n",
    "    \n",
    "    response_weather = OneCall_weather(lat = latitude, lon = longitude, exclude = 'current,minutely,hourly,alerts')\n",
    "\n",
    "    for i in range(1, 8, 1):\n",
    "        \n",
    "#        latitude = response_weather['lat']\n",
    "#        longitude = response_weather['lon']\n",
    "        day_time = convertDt(int(response_weather['daily'][i]['dt']))\n",
    "        \n",
    "        temperature = response_weather['daily'][i]['temp']['day']\n",
    "        precipitation_p = response_weather['daily'][i]['pop']\n",
    "        humidity = response_weather['daily'][i]['humidity']\n",
    "        weather = response_weather['daily'][i]['weather'][0]['description']\n",
    "        \n",
    "        weather_desc.append([city, latitude, longitude, day_time, temperature, precipitation_p, humidity, weather])\n",
    "    \n",
    "weather_df = pd.DataFrame(weather_desc, columns =columns)"
   ]
  },
  {
   "cell_type": "code",
   "execution_count": 12,
   "metadata": {},
   "outputs": [
    {
     "data": {
      "text/html": [
       "<div>\n",
       "<style scoped>\n",
       "    .dataframe tbody tr th:only-of-type {\n",
       "        vertical-align: middle;\n",
       "    }\n",
       "\n",
       "    .dataframe tbody tr th {\n",
       "        vertical-align: top;\n",
       "    }\n",
       "\n",
       "    .dataframe thead th {\n",
       "        text-align: right;\n",
       "    }\n",
       "</style>\n",
       "<table border=\"1\" class=\"dataframe\">\n",
       "  <thead>\n",
       "    <tr style=\"text-align: right;\">\n",
       "      <th></th>\n",
       "      <th>city</th>\n",
       "      <th>latitude</th>\n",
       "      <th>longitude</th>\n",
       "      <th>day_time</th>\n",
       "      <th>temperature</th>\n",
       "      <th>precipitation_p</th>\n",
       "      <th>humidity</th>\n",
       "      <th>weather</th>\n",
       "      <th>city_id</th>\n",
       "    </tr>\n",
       "  </thead>\n",
       "  <tbody>\n",
       "    <tr>\n",
       "      <th>0</th>\n",
       "      <td>Mont Saint Michel</td>\n",
       "      <td>48.635954</td>\n",
       "      <td>-1.51146</td>\n",
       "      <td>2021-12-06 11:00:00 (UTC)</td>\n",
       "      <td>6.82</td>\n",
       "      <td>0.98</td>\n",
       "      <td>79</td>\n",
       "      <td>light rain</td>\n",
       "      <td>48.6359541-1.5114599549595142</td>\n",
       "    </tr>\n",
       "    <tr>\n",
       "      <th>1</th>\n",
       "      <td>Mont Saint Michel</td>\n",
       "      <td>48.635954</td>\n",
       "      <td>-1.51146</td>\n",
       "      <td>2021-12-07 11:00:00 (UTC)</td>\n",
       "      <td>6.91</td>\n",
       "      <td>1.00</td>\n",
       "      <td>79</td>\n",
       "      <td>moderate rain</td>\n",
       "      <td>48.6359541-1.5114599549595142</td>\n",
       "    </tr>\n",
       "    <tr>\n",
       "      <th>2</th>\n",
       "      <td>Mont Saint Michel</td>\n",
       "      <td>48.635954</td>\n",
       "      <td>-1.51146</td>\n",
       "      <td>2021-12-08 11:00:00 (UTC)</td>\n",
       "      <td>5.70</td>\n",
       "      <td>1.00</td>\n",
       "      <td>90</td>\n",
       "      <td>moderate rain</td>\n",
       "      <td>48.6359541-1.5114599549595142</td>\n",
       "    </tr>\n",
       "    <tr>\n",
       "      <th>3</th>\n",
       "      <td>Mont Saint Michel</td>\n",
       "      <td>48.635954</td>\n",
       "      <td>-1.51146</td>\n",
       "      <td>2021-12-09 11:00:00 (UTC)</td>\n",
       "      <td>7.46</td>\n",
       "      <td>1.00</td>\n",
       "      <td>78</td>\n",
       "      <td>light rain</td>\n",
       "      <td>48.6359541-1.5114599549595142</td>\n",
       "    </tr>\n",
       "    <tr>\n",
       "      <th>4</th>\n",
       "      <td>Mont Saint Michel</td>\n",
       "      <td>48.635954</td>\n",
       "      <td>-1.51146</td>\n",
       "      <td>2021-12-10 11:00:00 (UTC)</td>\n",
       "      <td>7.88</td>\n",
       "      <td>1.00</td>\n",
       "      <td>79</td>\n",
       "      <td>moderate rain</td>\n",
       "      <td>48.6359541-1.5114599549595142</td>\n",
       "    </tr>\n",
       "  </tbody>\n",
       "</table>\n",
       "</div>"
      ],
      "text/plain": [
       "                city   latitude  longitude                   day_time  \\\n",
       "0  Mont Saint Michel  48.635954   -1.51146  2021-12-06 11:00:00 (UTC)   \n",
       "1  Mont Saint Michel  48.635954   -1.51146  2021-12-07 11:00:00 (UTC)   \n",
       "2  Mont Saint Michel  48.635954   -1.51146  2021-12-08 11:00:00 (UTC)   \n",
       "3  Mont Saint Michel  48.635954   -1.51146  2021-12-09 11:00:00 (UTC)   \n",
       "4  Mont Saint Michel  48.635954   -1.51146  2021-12-10 11:00:00 (UTC)   \n",
       "\n",
       "   temperature  precipitation_p  humidity        weather  \\\n",
       "0         6.82             0.98        79     light rain   \n",
       "1         6.91             1.00        79  moderate rain   \n",
       "2         5.70             1.00        90  moderate rain   \n",
       "3         7.46             1.00        78     light rain   \n",
       "4         7.88             1.00        79  moderate rain   \n",
       "\n",
       "                         city_id  \n",
       "0  48.6359541-1.5114599549595142  \n",
       "1  48.6359541-1.5114599549595142  \n",
       "2  48.6359541-1.5114599549595142  \n",
       "3  48.6359541-1.5114599549595142  \n",
       "4  48.6359541-1.5114599549595142  "
      ]
     },
     "execution_count": 12,
     "metadata": {},
     "output_type": "execute_result"
    }
   ],
   "source": [
    "# create a city unique identifer to be used as primary key later\n",
    "weather_df['city_id'] = weather_df['latitude'].astype(str) + weather_df['longitude'].astype(str)\n",
    "weather_df.head()"
   ]
  },
  {
   "cell_type": "markdown",
   "metadata": {},
   "source": [
    "## 2.4) Cities where the weather will be the nicest ☀️ 😎"
   ]
  },
  {
   "cell_type": "code",
   "execution_count": 13,
   "metadata": {},
   "outputs": [
    {
     "data": {
      "text/html": [
       "<div>\n",
       "<style scoped>\n",
       "    .dataframe tbody tr th:only-of-type {\n",
       "        vertical-align: middle;\n",
       "    }\n",
       "\n",
       "    .dataframe tbody tr th {\n",
       "        vertical-align: top;\n",
       "    }\n",
       "\n",
       "    .dataframe thead th {\n",
       "        text-align: right;\n",
       "    }\n",
       "</style>\n",
       "<table border=\"1\" class=\"dataframe\">\n",
       "  <thead>\n",
       "    <tr style=\"text-align: right;\">\n",
       "      <th></th>\n",
       "      <th></th>\n",
       "      <th></th>\n",
       "      <th>temperature</th>\n",
       "      <th>precipitation_p</th>\n",
       "      <th>humidity</th>\n",
       "    </tr>\n",
       "    <tr>\n",
       "      <th>city</th>\n",
       "      <th>latitude</th>\n",
       "      <th>longitude</th>\n",
       "      <th></th>\n",
       "      <th></th>\n",
       "      <th></th>\n",
       "    </tr>\n",
       "  </thead>\n",
       "  <tbody>\n",
       "    <tr>\n",
       "      <th>Collioure</th>\n",
       "      <th>42.525050</th>\n",
       "      <th>3.083155</th>\n",
       "      <td>10.5</td>\n",
       "      <td>0.5</td>\n",
       "      <td>62.9</td>\n",
       "    </tr>\n",
       "    <tr>\n",
       "      <th>Bayonne</th>\n",
       "      <th>43.493338</th>\n",
       "      <th>-1.475099</th>\n",
       "      <td>9.5</td>\n",
       "      <td>0.9</td>\n",
       "      <td>86.1</td>\n",
       "    </tr>\n",
       "    <tr>\n",
       "      <th>Biarritz</th>\n",
       "      <th>43.471144</th>\n",
       "      <th>-1.552727</th>\n",
       "      <td>9.3</td>\n",
       "      <td>0.9</td>\n",
       "      <td>86.0</td>\n",
       "    </tr>\n",
       "    <tr>\n",
       "      <th>Bormes les Mimosas</th>\n",
       "      <th>43.157217</th>\n",
       "      <th>6.329254</th>\n",
       "      <td>8.9</td>\n",
       "      <td>0.5</td>\n",
       "      <td>53.0</td>\n",
       "    </tr>\n",
       "    <tr>\n",
       "      <th>Saintes Maries de la mer</th>\n",
       "      <th>43.452277</th>\n",
       "      <th>4.428717</th>\n",
       "      <td>8.8</td>\n",
       "      <td>0.6</td>\n",
       "      <td>66.9</td>\n",
       "    </tr>\n",
       "  </tbody>\n",
       "</table>\n",
       "</div>"
      ],
      "text/plain": [
       "                                              temperature  precipitation_p  \\\n",
       "city                     latitude  longitude                                 \n",
       "Collioure                42.525050  3.083155         10.5              0.5   \n",
       "Bayonne                  43.493338 -1.475099          9.5              0.9   \n",
       "Biarritz                 43.471144 -1.552727          9.3              0.9   \n",
       "Bormes les Mimosas       43.157217  6.329254          8.9              0.5   \n",
       "Saintes Maries de la mer 43.452277  4.428717          8.8              0.6   \n",
       "\n",
       "                                              humidity  \n",
       "city                     latitude  longitude            \n",
       "Collioure                42.525050  3.083155      62.9  \n",
       "Bayonne                  43.493338 -1.475099      86.1  \n",
       "Biarritz                 43.471144 -1.552727      86.0  \n",
       "Bormes les Mimosas       43.157217  6.329254      53.0  \n",
       "Saintes Maries de la mer 43.452277  4.428717      66.9  "
      ]
     },
     "execution_count": 13,
     "metadata": {},
     "output_type": "execute_result"
    }
   ],
   "source": [
    "# mean and sd\n",
    "weather_means = weather_df.groupby(['city', 'latitude', 'longitude']).mean()\n",
    "weather_means = weather_means.sort_values(['temperature','precipitation_p', 'humidity'], ascending = (False, True, True))\n",
    "weather_means.round(1).head()"
   ]
  },
  {
   "cell_type": "markdown",
   "metadata": {},
   "source": [
    "🗒 Comparing two cities with reference to the three criteria (temperature, humidity and percipitation_p) depends on one's perception of what could be a good weather. It depends on one's life style and especially its region climate. \n",
    "🗒  We could have used the Universal Thermal Climate Index (UTCI), however, the One Call API doesn't supply such data.\n",
    "🗒  According to this article (Weather perception and its impact on out-of-home leisure activity participation decisions: https://www.tandfonline.com/doi/full/10.1080/21680566.2020.1733703), temperature, percipitation and UTCI are the most important factors that may influence someone's decision of going out. That's why, we will sort our data giving three available criteria in this order :  temperature, percipitation, humidity "
   ]
  },
  {
   "cell_type": "code",
   "execution_count": 14,
   "metadata": {},
   "outputs": [
    {
     "data": {
      "text/html": [
       "<div>\n",
       "<style scoped>\n",
       "    .dataframe tbody tr th:only-of-type {\n",
       "        vertical-align: middle;\n",
       "    }\n",
       "\n",
       "    .dataframe tbody tr th {\n",
       "        vertical-align: top;\n",
       "    }\n",
       "\n",
       "    .dataframe thead th {\n",
       "        text-align: right;\n",
       "    }\n",
       "</style>\n",
       "<table border=\"1\" class=\"dataframe\">\n",
       "  <thead>\n",
       "    <tr style=\"text-align: right;\">\n",
       "      <th></th>\n",
       "      <th>City</th>\n",
       "      <th>lat</th>\n",
       "      <th>lon</th>\n",
       "      <th>temperature</th>\n",
       "      <th>precipitation</th>\n",
       "    </tr>\n",
       "  </thead>\n",
       "  <tbody>\n",
       "    <tr>\n",
       "      <th>0</th>\n",
       "      <td>Collioure</td>\n",
       "      <td>42.525050</td>\n",
       "      <td>3.083155</td>\n",
       "      <td>10.460000</td>\n",
       "      <td>0.457143</td>\n",
       "    </tr>\n",
       "    <tr>\n",
       "      <th>1</th>\n",
       "      <td>Bayonne</td>\n",
       "      <td>43.493338</td>\n",
       "      <td>-1.475099</td>\n",
       "      <td>9.512857</td>\n",
       "      <td>0.911429</td>\n",
       "    </tr>\n",
       "    <tr>\n",
       "      <th>2</th>\n",
       "      <td>Biarritz</td>\n",
       "      <td>43.471144</td>\n",
       "      <td>-1.552727</td>\n",
       "      <td>9.314286</td>\n",
       "      <td>0.888571</td>\n",
       "    </tr>\n",
       "    <tr>\n",
       "      <th>3</th>\n",
       "      <td>Bormes les Mimosas</td>\n",
       "      <td>43.157217</td>\n",
       "      <td>6.329254</td>\n",
       "      <td>8.868571</td>\n",
       "      <td>0.505714</td>\n",
       "    </tr>\n",
       "    <tr>\n",
       "      <th>4</th>\n",
       "      <td>Saintes Maries de la mer</td>\n",
       "      <td>43.452277</td>\n",
       "      <td>4.428717</td>\n",
       "      <td>8.845714</td>\n",
       "      <td>0.642857</td>\n",
       "    </tr>\n",
       "  </tbody>\n",
       "</table>\n",
       "</div>"
      ],
      "text/plain": [
       "                       City        lat       lon  temperature  precipitation\n",
       "0                 Collioure  42.525050  3.083155    10.460000       0.457143\n",
       "1                   Bayonne  43.493338 -1.475099     9.512857       0.911429\n",
       "2                  Biarritz  43.471144 -1.552727     9.314286       0.888571\n",
       "3        Bormes les Mimosas  43.157217  6.329254     8.868571       0.505714\n",
       "4  Saintes Maries de la mer  43.452277  4.428717     8.845714       0.642857"
      ]
     },
     "execution_count": 14,
     "metadata": {},
     "output_type": "execute_result"
    }
   ],
   "source": [
    "def select_best(n, list_):\n",
    "    # select the first n cities \n",
    "\n",
    "    for i in range(n):\n",
    "        list_.append(weather_means.index[i][0:3])\n",
    "    return list_\n",
    "\n",
    "n_best =5\n",
    "cities_best = pd.DataFrame(select_best(n_best,[]), columns=['City', 'lat', 'lon'])\n",
    "\n",
    "temp_list =[]\n",
    "prec_list =[]\n",
    "\n",
    "for i in cities_best.index:\n",
    "    (city,lat,lon) = cities_best.loc[i]\n",
    "    temp_list.append(weather_means.loc[(city,lat,lon),'temperature'])\n",
    "    prec_list.append(weather_means.loc[(city,lat,lon),'precipitation_p'])\n",
    "    \n",
    "cities_best['temperature'] = temp_list\n",
    "cities_best['precipitation'] = prec_list\n",
    "cities_best    "
   ]
  },
  {
   "cell_type": "markdown",
   "metadata": {},
   "source": [
    "## 2.5) Export to a csv file 📁"
   ]
  },
  {
   "cell_type": "code",
   "execution_count": 15,
   "metadata": {},
   "outputs": [],
   "source": [
    "def read_csv(path):\n",
    "    return pd.read_csv(pathindex=False)  \n",
    "\n",
    "def write_csv(data, path):\n",
    "    data.to_csv(path)"
   ]
  },
  {
   "cell_type": "code",
   "execution_count": 16,
   "metadata": {},
   "outputs": [],
   "source": [
    "# boto3\n",
    "session = boto3.Session(aws_access_key_id=\"key\", \n",
    "                        aws_secret_access_key=\"key\")\n",
    "\n",
    "s3 = session.resource(\"s3\")\n",
    "\n",
    "bucket = s3.create_bucket(Bucket=\"jedha-project-3\")\n",
    "\n",
    "csv = weather_df.to_csv(index=False)\n",
    "\n",
    "put_object = bucket.put_object(Key=\"cities_weather.csv\", Body=csv)"
   ]
  },
  {
   "cell_type": "markdown",
   "metadata": {},
   "source": [
    "## 2.6) Visualize results with mapBox 📊"
   ]
  },
  {
   "cell_type": "code",
   "execution_count": 17,
   "metadata": {},
   "outputs": [
    {
     "data": {
      "text/html": [
       "<div>\n",
       "<style scoped>\n",
       "    .dataframe tbody tr th:only-of-type {\n",
       "        vertical-align: middle;\n",
       "    }\n",
       "\n",
       "    .dataframe tbody tr th {\n",
       "        vertical-align: top;\n",
       "    }\n",
       "\n",
       "    .dataframe thead th {\n",
       "        text-align: right;\n",
       "    }\n",
       "</style>\n",
       "<table border=\"1\" class=\"dataframe\">\n",
       "  <thead>\n",
       "    <tr style=\"text-align: right;\">\n",
       "      <th></th>\n",
       "      <th>City</th>\n",
       "      <th>lat</th>\n",
       "      <th>lon</th>\n",
       "      <th>temperature</th>\n",
       "      <th>precipitation</th>\n",
       "    </tr>\n",
       "  </thead>\n",
       "  <tbody>\n",
       "    <tr>\n",
       "      <th>0</th>\n",
       "      <td>Collioure</td>\n",
       "      <td>42.525050</td>\n",
       "      <td>3.083155</td>\n",
       "      <td>10.460000</td>\n",
       "      <td>0.457143</td>\n",
       "    </tr>\n",
       "    <tr>\n",
       "      <th>1</th>\n",
       "      <td>Bayonne</td>\n",
       "      <td>43.493338</td>\n",
       "      <td>-1.475099</td>\n",
       "      <td>9.512857</td>\n",
       "      <td>0.911429</td>\n",
       "    </tr>\n",
       "    <tr>\n",
       "      <th>2</th>\n",
       "      <td>Biarritz</td>\n",
       "      <td>43.471144</td>\n",
       "      <td>-1.552727</td>\n",
       "      <td>9.314286</td>\n",
       "      <td>0.888571</td>\n",
       "    </tr>\n",
       "    <tr>\n",
       "      <th>3</th>\n",
       "      <td>Bormes les Mimosas</td>\n",
       "      <td>43.157217</td>\n",
       "      <td>6.329254</td>\n",
       "      <td>8.868571</td>\n",
       "      <td>0.505714</td>\n",
       "    </tr>\n",
       "    <tr>\n",
       "      <th>4</th>\n",
       "      <td>Saintes Maries de la mer</td>\n",
       "      <td>43.452277</td>\n",
       "      <td>4.428717</td>\n",
       "      <td>8.845714</td>\n",
       "      <td>0.642857</td>\n",
       "    </tr>\n",
       "  </tbody>\n",
       "</table>\n",
       "</div>"
      ],
      "text/plain": [
       "                       City        lat       lon  temperature  precipitation\n",
       "0                 Collioure  42.525050  3.083155    10.460000       0.457143\n",
       "1                   Bayonne  43.493338 -1.475099     9.512857       0.911429\n",
       "2                  Biarritz  43.471144 -1.552727     9.314286       0.888571\n",
       "3        Bormes les Mimosas  43.157217  6.329254     8.868571       0.505714\n",
       "4  Saintes Maries de la mer  43.452277  4.428717     8.845714       0.642857"
      ]
     },
     "execution_count": 17,
     "metadata": {},
     "output_type": "execute_result"
    }
   ],
   "source": [
    "# read csv file or use dataframe \n",
    "cities_best"
   ]
  },
  {
   "cell_type": "code",
   "execution_count": 18,
   "metadata": {},
   "outputs": [
    {
     "data": {
      "text/html": [
       "<iframe\n",
       "    scrolling=\"no\"\n",
       "    width=\"100%\"\n",
       "    height=\"320\"\n",
       "    src=\"iframe_figures/figure_18.html\"\n",
       "    frameborder=\"0\"\n",
       "    allowfullscreen\n",
       "></iframe>\n"
      ]
     },
     "metadata": {},
     "output_type": "display_data"
    }
   ],
   "source": [
    "fig = px.scatter_mapbox(cities_best, lat=\"lat\", lon=\"lon\", hover_name='City', color=\"temperature\", size =\"precipitation\", \n",
    "                        hover_data=['temperature','precipitation'], color_discrete_sequence=[\"fuchsia\"], zoom=5, height=300)\n",
    "\n",
    "fig.update_layout(mapbox_style=\"open-street-map\")\n",
    "\n",
    "fig.update_layout(margin={\"r\":0,\"t\":0,\"l\":0,\"b\":0})\n",
    "\n",
    "fig.show()"
   ]
  }
 ],
 "metadata": {
  "kernelspec": {
   "display_name": "Python 3",
   "language": "python",
   "name": "python3"
  },
  "language_info": {
   "codemirror_mode": {
    "name": "ipython",
    "version": 3
   },
   "file_extension": ".py",
   "mimetype": "text/x-python",
   "name": "python",
   "nbconvert_exporter": "python",
   "pygments_lexer": "ipython3",
   "version": "3.8.6"
  }
 },
 "nbformat": 4,
 "nbformat_minor": 4
}
